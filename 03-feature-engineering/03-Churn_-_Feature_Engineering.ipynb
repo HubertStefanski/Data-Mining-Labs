{
 "cells": [
  {
   "cell_type": "markdown",
   "metadata": {
    "Collapsed": "false"
   },
   "source": [
    "# Churn - Feature Engineering"
   ]
  },
  {
   "cell_type": "markdown",
   "metadata": {
    "Collapsed": "false"
   },
   "source": [
    "## Load Libraries"
   ]
  },
  {
   "cell_type": "code",
   "execution_count": 1,
   "metadata": {
    "Collapsed": "false"
   },
   "outputs": [],
   "source": [
    "import pandas as pd\n",
    "import numpy as np\n",
    "import matplotlib.pyplot as plt\n",
    "import seaborn as sns\n",
    "\n",
    "from IPython.display import display, Markdown\n",
    "plt.style.use(\"seaborn-darkgrid\")\n",
    "pd.set_option('display.max_columns', None)  \n",
    "\n",
    "DEBUG = False\n",
    "TRAIN_TEST_SEED = 76"
   ]
  },
  {
   "cell_type": "code",
   "execution_count": 2,
   "metadata": {},
   "outputs": [],
   "source": [
    "import os\n",
    "for d in ['src','data','output']: os.makedirs(d, exist_ok=True)"
   ]
  },
  {
   "cell_type": "code",
   "execution_count": 3,
   "metadata": {
    "Collapsed": "false"
   },
   "outputs": [],
   "source": [
    "from IPython.display import Markdown, display"
   ]
  },
  {
   "cell_type": "code",
   "execution_count": 4,
   "metadata": {
    "Collapsed": "false"
   },
   "outputs": [],
   "source": [
    "# utility funciton for typesetting percentages\n",
    "display_fraction = lambda n,d: (n/d*100, n, d)"
   ]
  },
  {
   "cell_type": "markdown",
   "metadata": {
    "Collapsed": "false"
   },
   "source": [
    "## Load and Prepare the Data \n",
    "\n",
    "I have made a slight change of naming convention which will simply code below - and also avoid mistakes in lab sessions when I rerun cells out of order to demo parts of the code.   Rather than using __df__ to store the full dataset I will use __df_all__, and use __df__ as an alias for various dataset as needed - see [Feature Engineering](#Feature_Engineering). So will try to follow naming convention:\n",
    "\n",
    " * __df__ alias for various datasets (trwated link a tmp variable, more later). \n",
    " * __df_all__ full dataset after loading and prepped (columns renamed, value recoded).\n",
    " * __df_model__ dataset with target and a subset of the original attributes that may appear in model or be used to construct other attributes.\n",
    " * __df_train__ dataset \n",
    " * __df_test__ dataset \n",
    "\n",
    " \n"
   ]
  },
  {
   "cell_type": "code",
   "execution_count": 5,
   "metadata": {
    "Collapsed": "false"
   },
   "outputs": [
    {
     "name": "stdout",
     "output_type": "stream",
     "text": [
      "Churn (3333, 20)\n",
      "States (52, 4)\n"
     ]
    },
    {
     "data": {
      "text/markdown": [
       " * Data set consists of 3333 cases (rows) with 22 attributes (cols) and a single target."
      ],
      "text/plain": [
       "<IPython.core.display.Markdown object>"
      ]
     },
     "execution_count": 5,
     "metadata": {},
     "output_type": "execute_result"
    }
   ],
   "source": [
    "df_churn = pd.read_csv(\"data/churn.csv\")\n",
    "print(\"Churn\", df_churn.shape)\n",
    "df_states = pd.read_csv(\"data/states.csv\")\n",
    "print(\"States\", df_states.shape)\n",
    "\n",
    "df_all = df_churn.merge(df_states, on=\"State\")\n",
    "\n",
    "message = (\" * Data set consists of %d cases (rows) with %s attributes (cols) and a single target.\"  \n",
    "% (df_all.shape[0], df_all.shape[1]-1))\n",
    "Markdown(message)"
   ]
  },
  {
   "cell_type": "markdown",
   "metadata": {
    "Collapsed": "false"
   },
   "source": [
    "## Pre-Processing Data"
   ]
  },
  {
   "cell_type": "code",
   "execution_count": 6,
   "metadata": {
    "Collapsed": "false"
   },
   "outputs": [],
   "source": [
    "target = \"Churn\"\n",
    "attributes = df_all.columns.tolist()\n",
    "attributes.remove(target) \n",
    "\n",
    "df_model = df_all.loc[:, attributes + [target]]"
   ]
  },
  {
   "cell_type": "markdown",
   "metadata": {
    "Collapsed": "false"
   },
   "source": [
    "### Side Note - Down-Sampling \n",
    "\n",
    "When a dataset is imbalanced, one can generate a balanced dataset by taking a sample of the larger set."
   ]
  },
  {
   "cell_type": "code",
   "execution_count": 7,
   "metadata": {
    "Collapsed": "false"
   },
   "outputs": [],
   "source": [
    "#df_balanced_down_sampling = pd.concat ([\n",
    "#    df_all[df_all.Churn==0].sample(n=sum(df_all.Churn==1), random_state=TRAIN_TEST_SEED),\n",
    "#    df_all[df_all.Churn==1]])"
   ]
  },
  {
   "cell_type": "markdown",
   "metadata": {
    "Collapsed": "false"
   },
   "source": [
    "### Train-Test Split"
   ]
  },
  {
   "cell_type": "code",
   "execution_count": 8,
   "metadata": {
    "Collapsed": "false"
   },
   "outputs": [
    {
     "name": "stdout",
     "output_type": "stream",
     "text": [
      "(1999, 23) (1334, 23)\n"
     ]
    }
   ],
   "source": [
    "from sklearn.model_selection import train_test_split\n",
    "\n",
    "df_train, df_test = train_test_split(df_model, stratify=df_model[target], test_size=.40, random_state=TRAIN_TEST_SEED)\n",
    "print(df_train.shape, df_test.shape)"
   ]
  },
  {
   "cell_type": "code",
   "execution_count": 9,
   "metadata": {},
   "outputs": [],
   "source": [
    "# save copy of df_train for use with dtale\n",
    "df_train.to_csv(\"data/dt_train.csv\", index=False)"
   ]
  },
  {
   "cell_type": "markdown",
   "metadata": {
    "Collapsed": "false"
   },
   "source": [
    "## Feature_Engineering \n",
    "\n",
    "Features engineering and selection decision is carried out on __df_train__ ONLY, but resulting operations should be applied to both __df_train__ and __df_test__. The simplest way to do this (without repeating code) is to apply operations to __df_model__ and repeat the train/test split USING THE SAME SEED."
   ]
  },
  {
   "cell_type": "markdown",
   "metadata": {
    "Collapsed": "false"
   },
   "source": [
    "### New Feature - Cranky Triskaidekaphobias\n",
    "\n",
    "Would a feature indicating customers who complain and avoid the number 13 be useful in predicting Churn?\n",
    "\n",
    "This is a silly feature, but illustrates the general procedure"
   ]
  },
  {
   "cell_type": "code",
   "execution_count": 10,
   "metadata": {
    "Collapsed": "false"
   },
   "outputs": [
    {
     "data": {
      "text/html": [
       "<div>\n",
       "<style scoped>\n",
       "    .dataframe tbody tr th:only-of-type {\n",
       "        vertical-align: middle;\n",
       "    }\n",
       "\n",
       "    .dataframe tbody tr th {\n",
       "        vertical-align: top;\n",
       "    }\n",
       "\n",
       "    .dataframe thead th {\n",
       "        text-align: right;\n",
       "    }\n",
       "</style>\n",
       "<table border=\"1\" class=\"dataframe\">\n",
       "  <thead>\n",
       "    <tr style=\"text-align: right;\">\n",
       "      <th></th>\n",
       "      <th>State</th>\n",
       "      <th>Account_Length</th>\n",
       "      <th>Area_Code</th>\n",
       "      <th>Intl_Plan</th>\n",
       "      <th>VMail_Plan</th>\n",
       "      <th>VMail_Message</th>\n",
       "      <th>Day_Mins</th>\n",
       "      <th>Day_Calls</th>\n",
       "      <th>Day_Charge</th>\n",
       "      <th>Eve_Mins</th>\n",
       "      <th>Eve_Calls</th>\n",
       "      <th>Eve_Charge</th>\n",
       "      <th>Night_Mins</th>\n",
       "      <th>Night_Calls</th>\n",
       "      <th>Night_Charge</th>\n",
       "      <th>Intl_Mins</th>\n",
       "      <th>Intl_Calls</th>\n",
       "      <th>Intl_Charge</th>\n",
       "      <th>CustServ_Calls</th>\n",
       "      <th>Latitude</th>\n",
       "      <th>Longitude</th>\n",
       "      <th>Name</th>\n",
       "      <th>Churn</th>\n",
       "    </tr>\n",
       "  </thead>\n",
       "  <tbody>\n",
       "    <tr>\n",
       "      <th>3219</th>\n",
       "      <td>CT</td>\n",
       "      <td>106</td>\n",
       "      <td>510</td>\n",
       "      <td>0</td>\n",
       "      <td>1</td>\n",
       "      <td>33</td>\n",
       "      <td>81.6</td>\n",
       "      <td>120</td>\n",
       "      <td>13.87</td>\n",
       "      <td>235.6</td>\n",
       "      <td>85</td>\n",
       "      <td>20.03</td>\n",
       "      <td>150.9</td>\n",
       "      <td>113</td>\n",
       "      <td>6.79</td>\n",
       "      <td>9.9</td>\n",
       "      <td>4</td>\n",
       "      <td>2.67</td>\n",
       "      <td>1</td>\n",
       "      <td>41.603221</td>\n",
       "      <td>-73.087749</td>\n",
       "      <td>Connecticut</td>\n",
       "      <td>0</td>\n",
       "    </tr>\n",
       "    <tr>\n",
       "      <th>873</th>\n",
       "      <td>MT</td>\n",
       "      <td>130</td>\n",
       "      <td>408</td>\n",
       "      <td>0</td>\n",
       "      <td>1</td>\n",
       "      <td>19</td>\n",
       "      <td>152.9</td>\n",
       "      <td>87</td>\n",
       "      <td>25.99</td>\n",
       "      <td>213.2</td>\n",
       "      <td>99</td>\n",
       "      <td>18.12</td>\n",
       "      <td>205.3</td>\n",
       "      <td>114</td>\n",
       "      <td>9.24</td>\n",
       "      <td>10.8</td>\n",
       "      <td>6</td>\n",
       "      <td>2.92</td>\n",
       "      <td>2</td>\n",
       "      <td>46.879682</td>\n",
       "      <td>-110.362566</td>\n",
       "      <td>Montana</td>\n",
       "      <td>0</td>\n",
       "    </tr>\n",
       "    <tr>\n",
       "      <th>1662</th>\n",
       "      <td>HI</td>\n",
       "      <td>166</td>\n",
       "      <td>408</td>\n",
       "      <td>0</td>\n",
       "      <td>0</td>\n",
       "      <td>0</td>\n",
       "      <td>181.4</td>\n",
       "      <td>108</td>\n",
       "      <td>30.84</td>\n",
       "      <td>253.8</td>\n",
       "      <td>54</td>\n",
       "      <td>21.57</td>\n",
       "      <td>112.3</td>\n",
       "      <td>94</td>\n",
       "      <td>5.05</td>\n",
       "      <td>11.6</td>\n",
       "      <td>6</td>\n",
       "      <td>3.13</td>\n",
       "      <td>1</td>\n",
       "      <td>19.898682</td>\n",
       "      <td>-155.665857</td>\n",
       "      <td>Hawaii</td>\n",
       "      <td>0</td>\n",
       "    </tr>\n",
       "    <tr>\n",
       "      <th>973</th>\n",
       "      <td>ID</td>\n",
       "      <td>85</td>\n",
       "      <td>408</td>\n",
       "      <td>0</td>\n",
       "      <td>1</td>\n",
       "      <td>27</td>\n",
       "      <td>196.4</td>\n",
       "      <td>139</td>\n",
       "      <td>33.39</td>\n",
       "      <td>280.9</td>\n",
       "      <td>90</td>\n",
       "      <td>23.88</td>\n",
       "      <td>89.3</td>\n",
       "      <td>75</td>\n",
       "      <td>4.02</td>\n",
       "      <td>13.8</td>\n",
       "      <td>4</td>\n",
       "      <td>3.73</td>\n",
       "      <td>1</td>\n",
       "      <td>44.068202</td>\n",
       "      <td>-114.742041</td>\n",
       "      <td>Idaho</td>\n",
       "      <td>0</td>\n",
       "    </tr>\n",
       "    <tr>\n",
       "      <th>602</th>\n",
       "      <td>WV</td>\n",
       "      <td>75</td>\n",
       "      <td>415</td>\n",
       "      <td>0</td>\n",
       "      <td>0</td>\n",
       "      <td>0</td>\n",
       "      <td>111.7</td>\n",
       "      <td>121</td>\n",
       "      <td>18.99</td>\n",
       "      <td>237.3</td>\n",
       "      <td>119</td>\n",
       "      <td>20.17</td>\n",
       "      <td>253.5</td>\n",
       "      <td>110</td>\n",
       "      <td>11.41</td>\n",
       "      <td>13.1</td>\n",
       "      <td>6</td>\n",
       "      <td>3.54</td>\n",
       "      <td>1</td>\n",
       "      <td>38.597626</td>\n",
       "      <td>-80.454903</td>\n",
       "      <td>West Virginia</td>\n",
       "      <td>0</td>\n",
       "    </tr>\n",
       "  </tbody>\n",
       "</table>\n",
       "</div>"
      ],
      "text/plain": [
       "     State  Account_Length  Area_Code  Intl_Plan  VMail_Plan  VMail_Message  \\\n",
       "3219    CT             106        510          0           1             33   \n",
       "873     MT             130        408          0           1             19   \n",
       "1662    HI             166        408          0           0              0   \n",
       "973     ID              85        408          0           1             27   \n",
       "602     WV              75        415          0           0              0   \n",
       "\n",
       "      Day_Mins  Day_Calls  Day_Charge  Eve_Mins  Eve_Calls  Eve_Charge  \\\n",
       "3219      81.6        120       13.87     235.6         85       20.03   \n",
       "873      152.9         87       25.99     213.2         99       18.12   \n",
       "1662     181.4        108       30.84     253.8         54       21.57   \n",
       "973      196.4        139       33.39     280.9         90       23.88   \n",
       "602      111.7        121       18.99     237.3        119       20.17   \n",
       "\n",
       "      Night_Mins  Night_Calls  Night_Charge  Intl_Mins  Intl_Calls  \\\n",
       "3219       150.9          113          6.79        9.9           4   \n",
       "873        205.3          114          9.24       10.8           6   \n",
       "1662       112.3           94          5.05       11.6           6   \n",
       "973         89.3           75          4.02       13.8           4   \n",
       "602        253.5          110         11.41       13.1           6   \n",
       "\n",
       "      Intl_Charge  CustServ_Calls   Latitude   Longitude           Name  Churn  \n",
       "3219         2.67               1  41.603221  -73.087749    Connecticut      0  \n",
       "873          2.92               2  46.879682 -110.362566        Montana      0  \n",
       "1662         3.13               1  19.898682 -155.665857         Hawaii      0  \n",
       "973          3.73               1  44.068202 -114.742041          Idaho      0  \n",
       "602          3.54               1  38.597626  -80.454903  West Virginia      0  "
      ]
     },
     "execution_count": 10,
     "metadata": {},
     "output_type": "execute_result"
    }
   ],
   "source": [
    "my_query = df_train.query('CustServ_Calls>0 & Day_Calls!=13 & Eve_Calls!=13 & Night_Calls!=13 & Intl_Calls!=13')\n",
    "my_query.head()"
   ]
  },
  {
   "cell_type": "code",
   "execution_count": 11,
   "metadata": {
    "Collapsed": "false"
   },
   "outputs": [],
   "source": [
    "df_model[\"Cranky_Triskaidekaphobias\"] = df_model.apply (lambda row: (row.CustServ_Calls>0 \n",
    "            and row.Day_Calls!=13 and row.Eve_Calls!=13 \n",
    "            and row.Night_Calls!=13 and row.Intl_Calls!=13), axis=1)"
   ]
  },
  {
   "cell_type": "code",
   "execution_count": 12,
   "metadata": {},
   "outputs": [
    {
     "data": {
      "text/plain": [
       "Index(['State', 'Account_Length', 'Area_Code', 'Intl_Plan', 'VMail_Plan',\n",
       "       'VMail_Message', 'Day_Mins', 'Day_Calls', 'Day_Charge', 'Eve_Mins',\n",
       "       'Eve_Calls', 'Eve_Charge', 'Night_Mins', 'Night_Calls', 'Night_Charge',\n",
       "       'Intl_Mins', 'Intl_Calls', 'Intl_Charge', 'CustServ_Calls', 'Latitude',\n",
       "       'Longitude', 'Name', 'Churn', 'Cranky_Triskaidekaphobias'],\n",
       "      dtype='object')"
      ]
     },
     "execution_count": 12,
     "metadata": {},
     "output_type": "execute_result"
    }
   ],
   "source": [
    "df_model.columns"
   ]
  },
  {
   "cell_type": "markdown",
   "metadata": {
    "Collapsed": "false"
   },
   "source": [
    "### New Feature - Total Charge\n",
    "Is the sum of all Charges for a user"
   ]
  },
  {
   "cell_type": "code",
   "execution_count": 13,
   "metadata": {
    "Collapsed": "false"
   },
   "outputs": [
    {
     "data": {
      "text/plain": [
       "Index(['State', 'Account_Length', 'Area_Code', 'Intl_Plan', 'VMail_Plan',\n",
       "       'VMail_Message', 'Day_Mins', 'Day_Calls', 'Day_Charge', 'Eve_Mins',\n",
       "       'Eve_Calls', 'Eve_Charge', 'Night_Mins', 'Night_Calls', 'Night_Charge',\n",
       "       'Intl_Mins', 'Intl_Calls', 'Intl_Charge', 'CustServ_Calls', 'Latitude',\n",
       "       'Longitude', 'Name', 'Churn', 'Cranky_Triskaidekaphobias',\n",
       "       'total_charge'],\n",
       "      dtype='object')"
      ]
     },
     "execution_count": 13,
     "metadata": {},
     "output_type": "execute_result"
    }
   ],
   "source": [
    "df_model[\"total_charge\"] = df_model.apply (lambda row: (row.Day_Charge +  row.Eve_Charge + row.Night_Charge + row.Intl_Charge), axis=1)\n",
    "df_model.columns"
   ]
  },
  {
   "cell_type": "markdown",
   "metadata": {
    "Collapsed": "false"
   },
   "source": [
    "### New Feature - Total Mins\n",
    "Is the sum of all minutes that the user has spent on calls"
   ]
  },
  {
   "cell_type": "code",
   "execution_count": 14,
   "metadata": {
    "Collapsed": "false"
   },
   "outputs": [
    {
     "data": {
      "text/plain": [
       "Index(['State', 'Account_Length', 'Area_Code', 'Intl_Plan', 'VMail_Plan',\n",
       "       'VMail_Message', 'Day_Mins', 'Day_Calls', 'Day_Charge', 'Eve_Mins',\n",
       "       'Eve_Calls', 'Eve_Charge', 'Night_Mins', 'Night_Calls', 'Night_Charge',\n",
       "       'Intl_Mins', 'Intl_Calls', 'Intl_Charge', 'CustServ_Calls', 'Latitude',\n",
       "       'Longitude', 'Name', 'Churn', 'Cranky_Triskaidekaphobias',\n",
       "       'total_charge', 'total_mins'],\n",
       "      dtype='object')"
      ]
     },
     "execution_count": 14,
     "metadata": {},
     "output_type": "execute_result"
    }
   ],
   "source": [
    "df_model[\"total_mins\"] = df_model.apply (lambda row: (row.Day_Mins + \n",
    "            + row.Night_Mins + row.Eve_Mins + row.Intl_Mins), axis=1)\n",
    "df_model.columns"
   ]
  },
  {
   "cell_type": "markdown",
   "metadata": {
    "Collapsed": "false"
   },
   "source": [
    "### New Feature - Total Calls\n",
    "Is the total number of calls that any customer has made"
   ]
  },
  {
   "cell_type": "code",
   "execution_count": 15,
   "metadata": {
    "Collapsed": "false"
   },
   "outputs": [
    {
     "data": {
      "text/plain": [
       "Index(['State', 'Account_Length', 'Area_Code', 'Intl_Plan', 'VMail_Plan',\n",
       "       'VMail_Message', 'Day_Mins', 'Day_Calls', 'Day_Charge', 'Eve_Mins',\n",
       "       'Eve_Calls', 'Eve_Charge', 'Night_Mins', 'Night_Calls', 'Night_Charge',\n",
       "       'Intl_Mins', 'Intl_Calls', 'Intl_Charge', 'CustServ_Calls', 'Latitude',\n",
       "       'Longitude', 'Name', 'Churn', 'Cranky_Triskaidekaphobias',\n",
       "       'total_charge', 'total_mins', 'total_calls'],\n",
       "      dtype='object')"
      ]
     },
     "execution_count": 15,
     "metadata": {},
     "output_type": "execute_result"
    }
   ],
   "source": [
    "df_model[\"total_calls\"] = df_model.apply (lambda row: (row.Day_Calls + \n",
    "            + row.Night_Calls + row.Eve_Calls + row.Intl_Calls), axis=1)\n",
    "df_model.columns"
   ]
  },
  {
   "cell_type": "markdown",
   "metadata": {},
   "source": [
    "### New Feature - Lower than average total calls with higher than average total charge\n",
    "This feature finds users that make less than the average number of calls but get charge more than the average, the logic here being that users that are overcharged are more likely to churn\n"
   ]
  },
  {
   "cell_type": "code",
   "execution_count": 16,
   "metadata": {},
   "outputs": [
    {
     "data": {
      "text/plain": [
       "Index(['State', 'Account_Length', 'Area_Code', 'Intl_Plan', 'VMail_Plan',\n",
       "       'VMail_Message', 'Day_Mins', 'Day_Calls', 'Day_Charge', 'Eve_Mins',\n",
       "       'Eve_Calls', 'Eve_Charge', 'Night_Mins', 'Night_Calls', 'Night_Charge',\n",
       "       'Intl_Mins', 'Intl_Calls', 'Intl_Charge', 'CustServ_Calls', 'Latitude',\n",
       "       'Longitude', 'Name', 'Churn', 'Cranky_Triskaidekaphobias',\n",
       "       'total_charge', 'total_mins', 'total_calls', 'low_call_high_charge'],\n",
       "      dtype='object')"
      ]
     },
     "execution_count": 16,
     "metadata": {},
     "output_type": "execute_result"
    }
   ],
   "source": [
    "df_model[\"low_call_high_charge\"] = df_model.apply (lambda row: (row.total_calls<(df_model.total_calls.sum()/df_model.total_calls.mean()) and row.total_charge>(df_model.total_charge.sum()/df_model.total_charge.mean())), axis=1)\n",
    "df_model.columns"
   ]
  },
  {
   "cell_type": "markdown",
   "metadata": {
    "Collapsed": "false"
   },
   "source": [
    "### New Feature - Higher than avg international charge\n",
    "This feature shows whether the user is being charged more than the average person for international calls"
   ]
  },
  {
   "cell_type": "code",
   "execution_count": 17,
   "metadata": {
    "Collapsed": "false"
   },
   "outputs": [
    {
     "data": {
      "text/plain": [
       "Index(['State', 'Account_Length', 'Area_Code', 'Intl_Plan', 'VMail_Plan',\n",
       "       'VMail_Message', 'Day_Mins', 'Day_Calls', 'Day_Charge', 'Eve_Mins',\n",
       "       'Eve_Calls', 'Eve_Charge', 'Night_Mins', 'Night_Calls', 'Night_Charge',\n",
       "       'Intl_Mins', 'Intl_Calls', 'Intl_Charge', 'CustServ_Calls', 'Latitude',\n",
       "       'Longitude', 'Name', 'Churn', 'Cranky_Triskaidekaphobias',\n",
       "       'total_charge', 'total_mins', 'total_calls', 'low_call_high_charge',\n",
       "       'intl_callers_higher_than_avg_charge'],\n",
       "      dtype='object')"
      ]
     },
     "execution_count": 17,
     "metadata": {},
     "output_type": "execute_result"
    }
   ],
   "source": [
    "df_model[\"intl_callers_higher_than_avg_charge\"] = df_model.apply (lambda row: (row.Intl_Charge > df_model.Intl_Charge.mean() and row.Intl_Plan!=0), axis=1)\n",
    "df_model.columns"
   ]
  },
  {
   "cell_type": "markdown",
   "metadata": {
    "Collapsed": "false"
   },
   "source": [
    "### New Feature - International users with higher than average international calls\n",
    "This feature shows whether a customer with a plan makes more calls internationally than the average number of calls of all users"
   ]
  },
  {
   "cell_type": "code",
   "execution_count": 18,
   "metadata": {
    "Collapsed": "false"
   },
   "outputs": [
    {
     "data": {
      "text/plain": [
       "Index(['State', 'Account_Length', 'Area_Code', 'Intl_Plan', 'VMail_Plan',\n",
       "       'VMail_Message', 'Day_Mins', 'Day_Calls', 'Day_Charge', 'Eve_Mins',\n",
       "       'Eve_Calls', 'Eve_Charge', 'Night_Mins', 'Night_Calls', 'Night_Charge',\n",
       "       'Intl_Mins', 'Intl_Calls', 'Intl_Charge', 'CustServ_Calls', 'Latitude',\n",
       "       'Longitude', 'Name', 'Churn', 'Cranky_Triskaidekaphobias',\n",
       "       'total_charge', 'total_mins', 'total_calls', 'low_call_high_charge',\n",
       "       'intl_callers_higher_than_avg_charge',\n",
       "       'intl_callers_higher_than_avg_calls'],\n",
       "      dtype='object')"
      ]
     },
     "execution_count": 18,
     "metadata": {},
     "output_type": "execute_result"
    }
   ],
   "source": [
    "df_model[\"intl_callers_higher_than_avg_calls\"] = df_model.apply (lambda row: (row.Intl_Plan!=0 and row.Intl_Calls > df_model.Intl_Calls.mean()), axis=1)\n",
    "df_model.columns"
   ]
  },
  {
   "cell_type": "markdown",
   "metadata": {
    "Collapsed": "false"
   },
   "source": [
    "### New Feature - International caller with no International plan\n",
    "This feature shows whether the customer uses international calls but doesn't have an international plan"
   ]
  },
  {
   "cell_type": "code",
   "execution_count": 19,
   "metadata": {
    "Collapsed": "false",
    "scrolled": true
   },
   "outputs": [
    {
     "data": {
      "text/plain": [
       "Index(['State', 'Account_Length', 'Area_Code', 'Intl_Plan', 'VMail_Plan',\n",
       "       'VMail_Message', 'Day_Mins', 'Day_Calls', 'Day_Charge', 'Eve_Mins',\n",
       "       'Eve_Calls', 'Eve_Charge', 'Night_Mins', 'Night_Calls', 'Night_Charge',\n",
       "       'Intl_Mins', 'Intl_Calls', 'Intl_Charge', 'CustServ_Calls', 'Latitude',\n",
       "       'Longitude', 'Name', 'Churn', 'Cranky_Triskaidekaphobias',\n",
       "       'total_charge', 'total_mins', 'total_calls', 'low_call_high_charge',\n",
       "       'intl_callers_higher_than_avg_charge',\n",
       "       'intl_callers_higher_than_avg_calls', 'intl_callers_no_plan'],\n",
       "      dtype='object')"
      ]
     },
     "execution_count": 19,
     "metadata": {},
     "output_type": "execute_result"
    }
   ],
   "source": [
    "df_model[\"intl_callers_no_plan\"] = df_model.apply (lambda row: (row.Intl_Plan!=1 and row.Intl_Calls > 0), axis=1)\n",
    "df_model.columns"
   ]
  },
  {
   "cell_type": "markdown",
   "metadata": {},
   "source": [
    "### New Feature - Average charge per total_mins\n",
    "This feature finds the average charge per minute for all of the customers calls"
   ]
  },
  {
   "cell_type": "code",
   "execution_count": 20,
   "metadata": {},
   "outputs": [
    {
     "data": {
      "text/plain": [
       "Index(['State', 'Account_Length', 'Area_Code', 'Intl_Plan', 'VMail_Plan',\n",
       "       'VMail_Message', 'Day_Mins', 'Day_Calls', 'Day_Charge', 'Eve_Mins',\n",
       "       'Eve_Calls', 'Eve_Charge', 'Night_Mins', 'Night_Calls', 'Night_Charge',\n",
       "       'Intl_Mins', 'Intl_Calls', 'Intl_Charge', 'CustServ_Calls', 'Latitude',\n",
       "       'Longitude', 'Name', 'Churn', 'Cranky_Triskaidekaphobias',\n",
       "       'total_charge', 'total_mins', 'total_calls', 'low_call_high_charge',\n",
       "       'intl_callers_higher_than_avg_charge',\n",
       "       'intl_callers_higher_than_avg_calls', 'intl_callers_no_plan',\n",
       "       'avg_charge_per_min'],\n",
       "      dtype='object')"
      ]
     },
     "execution_count": 20,
     "metadata": {},
     "output_type": "execute_result"
    }
   ],
   "source": [
    "df_model[\"avg_charge_per_min\"] = df_model.apply (lambda row: (row.total_charge/row.total_mins), axis=1)\n",
    "df_model.columns"
   ]
  },
  {
   "cell_type": "markdown",
   "metadata": {},
   "source": [
    "### New Feature - New Angry customer\n",
    "This feature shows whether the customer might be angry if they are fairly new to the company and have made calls to customer service while being with the company for less than 50 units of account_length"
   ]
  },
  {
   "cell_type": "code",
   "execution_count": 21,
   "metadata": {},
   "outputs": [
    {
     "data": {
      "text/plain": [
       "Index(['State', 'Account_Length', 'Area_Code', 'Intl_Plan', 'VMail_Plan',\n",
       "       'VMail_Message', 'Day_Mins', 'Day_Calls', 'Day_Charge', 'Eve_Mins',\n",
       "       'Eve_Calls', 'Eve_Charge', 'Night_Mins', 'Night_Calls', 'Night_Charge',\n",
       "       'Intl_Mins', 'Intl_Calls', 'Intl_Charge', 'CustServ_Calls', 'Latitude',\n",
       "       'Longitude', 'Name', 'Churn', 'Cranky_Triskaidekaphobias',\n",
       "       'total_charge', 'total_mins', 'total_calls', 'low_call_high_charge',\n",
       "       'intl_callers_higher_than_avg_charge',\n",
       "       'intl_callers_higher_than_avg_calls', 'intl_callers_no_plan',\n",
       "       'avg_charge_per_min', 'new_n_angry'],\n",
       "      dtype='object')"
      ]
     },
     "execution_count": 21,
     "metadata": {},
     "output_type": "execute_result"
    }
   ],
   "source": [
    "df_model[\"new_n_angry\"] = df_model.apply (lambda row: (row.Account_Length<50 and row.CustServ_Calls > 0), axis=1)\n",
    "df_model.columns"
   ]
  },
  {
   "cell_type": "markdown",
   "metadata": {},
   "source": [
    "### New Feature - Average calls per account length\n",
    "This feature finds the average number of calls per account_length (weeks or days?)"
   ]
  },
  {
   "cell_type": "code",
   "execution_count": 22,
   "metadata": {},
   "outputs": [
    {
     "data": {
      "text/plain": [
       "Index(['State', 'Account_Length', 'Area_Code', 'Intl_Plan', 'VMail_Plan',\n",
       "       'VMail_Message', 'Day_Mins', 'Day_Calls', 'Day_Charge', 'Eve_Mins',\n",
       "       'Eve_Calls', 'Eve_Charge', 'Night_Mins', 'Night_Calls', 'Night_Charge',\n",
       "       'Intl_Mins', 'Intl_Calls', 'Intl_Charge', 'CustServ_Calls', 'Latitude',\n",
       "       'Longitude', 'Name', 'Churn', 'Cranky_Triskaidekaphobias',\n",
       "       'total_charge', 'total_mins', 'total_calls', 'low_call_high_charge',\n",
       "       'intl_callers_higher_than_avg_charge',\n",
       "       'intl_callers_higher_than_avg_calls', 'intl_callers_no_plan',\n",
       "       'avg_charge_per_min', 'new_n_angry', 'avg_calls_per_length'],\n",
       "      dtype='object')"
      ]
     },
     "execution_count": 22,
     "metadata": {},
     "output_type": "execute_result"
    }
   ],
   "source": [
    "df_model[\"avg_calls_per_length\"] = df_model.apply (lambda row: (row.total_calls/row.Account_Length), axis=1)\n",
    "df_model.columns"
   ]
  },
  {
   "cell_type": "markdown",
   "metadata": {},
   "source": [
    "### New Feature - avg missed calls per day\n",
    "This Feature finds the average number vmails/missed calls per account_length"
   ]
  },
  {
   "cell_type": "code",
   "execution_count": 23,
   "metadata": {},
   "outputs": [
    {
     "data": {
      "text/plain": [
       "Index(['State', 'Account_Length', 'Area_Code', 'Intl_Plan', 'VMail_Plan',\n",
       "       'VMail_Message', 'Day_Mins', 'Day_Calls', 'Day_Charge', 'Eve_Mins',\n",
       "       'Eve_Calls', 'Eve_Charge', 'Night_Mins', 'Night_Calls', 'Night_Charge',\n",
       "       'Intl_Mins', 'Intl_Calls', 'Intl_Charge', 'CustServ_Calls', 'Latitude',\n",
       "       'Longitude', 'Name', 'Churn', 'Cranky_Triskaidekaphobias',\n",
       "       'total_charge', 'total_mins', 'total_calls', 'low_call_high_charge',\n",
       "       'intl_callers_higher_than_avg_charge',\n",
       "       'intl_callers_higher_than_avg_calls', 'intl_callers_no_plan',\n",
       "       'avg_charge_per_min', 'new_n_angry', 'avg_calls_per_length',\n",
       "       'avg_calls_per_acc_length'],\n",
       "      dtype='object')"
      ]
     },
     "execution_count": 23,
     "metadata": {},
     "output_type": "execute_result"
    }
   ],
   "source": [
    "df_model[\"avg_calls_per_acc_length\"] = df_model.apply (lambda row: (row.VMail_Message/row.Account_Length), axis=1)\n",
    "df_model.columns"
   ]
  },
  {
   "cell_type": "markdown",
   "metadata": {},
   "source": [
    "### New Feature - Avg Call Length\n",
    "Finds the average number of minutes that the customer spent on calls"
   ]
  },
  {
   "cell_type": "code",
   "execution_count": 24,
   "metadata": {},
   "outputs": [
    {
     "data": {
      "text/plain": [
       "Index(['State', 'Account_Length', 'Area_Code', 'Intl_Plan', 'VMail_Plan',\n",
       "       'VMail_Message', 'Day_Mins', 'Day_Calls', 'Day_Charge', 'Eve_Mins',\n",
       "       'Eve_Calls', 'Eve_Charge', 'Night_Mins', 'Night_Calls', 'Night_Charge',\n",
       "       'Intl_Mins', 'Intl_Calls', 'Intl_Charge', 'CustServ_Calls', 'Latitude',\n",
       "       'Longitude', 'Name', 'Churn', 'Cranky_Triskaidekaphobias',\n",
       "       'total_charge', 'total_mins', 'total_calls', 'low_call_high_charge',\n",
       "       'intl_callers_higher_than_avg_charge',\n",
       "       'intl_callers_higher_than_avg_calls', 'intl_callers_no_plan',\n",
       "       'avg_charge_per_min', 'new_n_angry', 'avg_calls_per_length',\n",
       "       'avg_calls_per_acc_length', 'avg_call_length'],\n",
       "      dtype='object')"
      ]
     },
     "execution_count": 24,
     "metadata": {},
     "output_type": "execute_result"
    }
   ],
   "source": [
    "df_model[\"avg_call_length\"] = df_model.apply (lambda row: (row.total_calls/row.total_mins), axis=1)\n",
    "df_model.columns"
   ]
  },
  {
   "cell_type": "markdown",
   "metadata": {},
   "source": [
    "### New Feature - Avg Charge per call\n",
    "Finds the average charge per call for the customer"
   ]
  },
  {
   "cell_type": "code",
   "execution_count": 25,
   "metadata": {},
   "outputs": [
    {
     "data": {
      "text/plain": [
       "Index(['State', 'Account_Length', 'Area_Code', 'Intl_Plan', 'VMail_Plan',\n",
       "       'VMail_Message', 'Day_Mins', 'Day_Calls', 'Day_Charge', 'Eve_Mins',\n",
       "       'Eve_Calls', 'Eve_Charge', 'Night_Mins', 'Night_Calls', 'Night_Charge',\n",
       "       'Intl_Mins', 'Intl_Calls', 'Intl_Charge', 'CustServ_Calls', 'Latitude',\n",
       "       'Longitude', 'Name', 'Churn', 'Cranky_Triskaidekaphobias',\n",
       "       'total_charge', 'total_mins', 'total_calls', 'low_call_high_charge',\n",
       "       'intl_callers_higher_than_avg_charge',\n",
       "       'intl_callers_higher_than_avg_calls', 'intl_callers_no_plan',\n",
       "       'avg_charge_per_min', 'new_n_angry', 'avg_calls_per_length',\n",
       "       'avg_calls_per_acc_length', 'avg_call_length'],\n",
       "      dtype='object')"
      ]
     },
     "execution_count": 25,
     "metadata": {},
     "output_type": "execute_result"
    }
   ],
   "source": [
    "df_model[\"avg_call_length\"] = df_model.apply (lambda row: (row.total_charge/row.total_calls), axis=1)\n",
    "df_model.columns"
   ]
  },
  {
   "cell_type": "markdown",
   "metadata": {},
   "source": [
    "### New Feature - Avg Charge per call\n",
    "Finds the whether the customer is statistically more probable to be a democrat or republican"
   ]
  },
  {
   "cell_type": "code",
   "execution_count": 26,
   "metadata": {},
   "outputs": [],
   "source": [
    "Democrats = \"CA,OR,WA,NV,CO,AZ,NM, MN,WI,MI,IL,PA,NY,VT,ME,NH,MA,CT,RI,NJ,DE,MD,VA,GA\".split(\",\")\n",
    "Republicans = \"MT,ID,WY,UT,ND,SD,NE,KS,OK,TX,IA,MO,AR,LA,MS,AL,TN,KY,IN,OH,WV,NC,SC,FL\".split(\",\")\n",
    "\n",
    "df_model[\"Democrat\"] = df_model.apply (lambda row: (row.State in Democrats), axis=1)\n",
    "\n",
    "        "
   ]
  },
  {
   "cell_type": "markdown",
   "metadata": {
    "Collapsed": "false"
   },
   "source": [
    "## Model Training"
   ]
  },
  {
   "cell_type": "code",
   "execution_count": 27,
   "metadata": {
    "Collapsed": "false"
   },
   "outputs": [
    {
     "name": "stdout",
     "output_type": "stream",
     "text": [
      "['State' 'Account_Length' 'Area_Code' 'Intl_Plan' 'VMail_Plan'\n",
      " 'VMail_Message' 'Day_Mins' 'Day_Calls' 'Day_Charge' 'Eve_Mins'\n",
      " 'Eve_Calls' 'Eve_Charge' 'Night_Mins' 'Night_Calls' 'Night_Charge'\n",
      " 'Intl_Mins' 'Intl_Calls' 'Intl_Charge' 'CustServ_Calls' 'Latitude'\n",
      " 'Longitude' 'Name' 'Churn' 'Cranky_Triskaidekaphobias' 'total_charge'\n",
      " 'total_mins' 'total_calls' 'low_call_high_charge'\n",
      " 'intl_callers_higher_than_avg_charge'\n",
      " 'intl_callers_higher_than_avg_calls' 'intl_callers_no_plan'\n",
      " 'avg_charge_per_min' 'new_n_angry' 'avg_calls_per_length'\n",
      " 'avg_calls_per_acc_length' 'avg_call_length' 'Democrat']\n"
     ]
    }
   ],
   "source": [
    "print (df_model.columns.values)"
   ]
  },
  {
   "cell_type": "markdown",
   "metadata": {
    "Collapsed": "false"
   },
   "source": [
    "### Train-Test Split\n",
    "\n",
    "REPEAT train/test split from above so that both data subsets have the modified feature set."
   ]
  },
  {
   "cell_type": "code",
   "execution_count": 28,
   "metadata": {
    "Collapsed": "false"
   },
   "outputs": [
    {
     "name": "stdout",
     "output_type": "stream",
     "text": [
      "['Account_Length', 'Area_Code', 'Intl_Plan', 'VMail_Plan', 'VMail_Message', 'Day_Mins', 'Day_Calls', 'Day_Charge', 'Eve_Mins', 'Eve_Calls', 'Eve_Charge', 'Night_Mins', 'Night_Calls', 'Night_Charge', 'Intl_Mins', 'Intl_Calls', 'Intl_Charge', 'CustServ_Calls', 'Cranky_Triskaidekaphobias', 'total_charge', 'total_mins', 'total_calls', 'low_call_high_charge', 'intl_callers_higher_than_avg_charge', 'intl_callers_higher_than_avg_calls', 'intl_callers_no_plan', 'avg_charge_per_min', 'new_n_angry', 'avg_calls_per_length', 'avg_calls_per_acc_length', 'avg_call_length', 'Democrat']\n"
     ]
    }
   ],
   "source": [
    "df_train, df_test = train_test_split(df_model, stratify=df_model[target], test_size=.40, random_state=TRAIN_TEST_SEED)\n",
    "attributes = df_model.columns.tolist()\n",
    "attributes.remove(target)\n",
    "for c in [\"Churn\", \"State\", \"Name\", \"Longitude\", \"Latitude\"]: \n",
    "    if c in attributes: attributes.remove(c)\n",
    "\n",
    "print(attributes)"
   ]
  },
  {
   "cell_type": "code",
   "execution_count": 29,
   "metadata": {
    "Collapsed": "false"
   },
   "outputs": [
    {
     "data": {
      "text/html": [
       "<div>\n",
       "<style scoped>\n",
       "    .dataframe tbody tr th:only-of-type {\n",
       "        vertical-align: middle;\n",
       "    }\n",
       "\n",
       "    .dataframe tbody tr th {\n",
       "        vertical-align: top;\n",
       "    }\n",
       "\n",
       "    .dataframe thead th {\n",
       "        text-align: right;\n",
       "    }\n",
       "</style>\n",
       "<table border=\"1\" class=\"dataframe\">\n",
       "  <thead>\n",
       "    <tr style=\"text-align: right;\">\n",
       "      <th></th>\n",
       "      <th>Account_Length</th>\n",
       "      <th>Area_Code</th>\n",
       "      <th>Intl_Plan</th>\n",
       "      <th>VMail_Plan</th>\n",
       "      <th>VMail_Message</th>\n",
       "      <th>Day_Mins</th>\n",
       "      <th>Day_Calls</th>\n",
       "      <th>Day_Charge</th>\n",
       "      <th>Eve_Mins</th>\n",
       "      <th>Eve_Calls</th>\n",
       "      <th>Eve_Charge</th>\n",
       "      <th>Night_Mins</th>\n",
       "      <th>Night_Calls</th>\n",
       "      <th>Night_Charge</th>\n",
       "      <th>Intl_Mins</th>\n",
       "      <th>Intl_Calls</th>\n",
       "      <th>Intl_Charge</th>\n",
       "      <th>CustServ_Calls</th>\n",
       "      <th>Cranky_Triskaidekaphobias</th>\n",
       "      <th>total_charge</th>\n",
       "      <th>total_mins</th>\n",
       "      <th>total_calls</th>\n",
       "      <th>low_call_high_charge</th>\n",
       "      <th>intl_callers_higher_than_avg_charge</th>\n",
       "      <th>intl_callers_higher_than_avg_calls</th>\n",
       "      <th>intl_callers_no_plan</th>\n",
       "      <th>avg_charge_per_min</th>\n",
       "      <th>new_n_angry</th>\n",
       "      <th>avg_calls_per_length</th>\n",
       "      <th>avg_calls_per_acc_length</th>\n",
       "      <th>avg_call_length</th>\n",
       "      <th>Democrat</th>\n",
       "    </tr>\n",
       "  </thead>\n",
       "  <tbody>\n",
       "    <tr>\n",
       "      <th>0</th>\n",
       "      <td>128</td>\n",
       "      <td>415</td>\n",
       "      <td>0</td>\n",
       "      <td>1</td>\n",
       "      <td>25</td>\n",
       "      <td>265.1</td>\n",
       "      <td>110</td>\n",
       "      <td>45.07</td>\n",
       "      <td>197.4</td>\n",
       "      <td>99</td>\n",
       "      <td>16.78</td>\n",
       "      <td>244.7</td>\n",
       "      <td>91</td>\n",
       "      <td>11.01</td>\n",
       "      <td>10.0</td>\n",
       "      <td>3</td>\n",
       "      <td>2.70</td>\n",
       "      <td>1</td>\n",
       "      <td>True</td>\n",
       "      <td>75.56</td>\n",
       "      <td>717.2</td>\n",
       "      <td>303</td>\n",
       "      <td>False</td>\n",
       "      <td>False</td>\n",
       "      <td>False</td>\n",
       "      <td>True</td>\n",
       "      <td>0.105354</td>\n",
       "      <td>False</td>\n",
       "      <td>2.367188</td>\n",
       "      <td>0.195312</td>\n",
       "      <td>0.249373</td>\n",
       "      <td>False</td>\n",
       "    </tr>\n",
       "    <tr>\n",
       "      <th>1</th>\n",
       "      <td>70</td>\n",
       "      <td>408</td>\n",
       "      <td>0</td>\n",
       "      <td>0</td>\n",
       "      <td>0</td>\n",
       "      <td>232.1</td>\n",
       "      <td>122</td>\n",
       "      <td>39.46</td>\n",
       "      <td>292.3</td>\n",
       "      <td>112</td>\n",
       "      <td>24.85</td>\n",
       "      <td>201.2</td>\n",
       "      <td>112</td>\n",
       "      <td>9.05</td>\n",
       "      <td>0.0</td>\n",
       "      <td>0</td>\n",
       "      <td>0.00</td>\n",
       "      <td>3</td>\n",
       "      <td>True</td>\n",
       "      <td>73.36</td>\n",
       "      <td>725.6</td>\n",
       "      <td>346</td>\n",
       "      <td>False</td>\n",
       "      <td>False</td>\n",
       "      <td>False</td>\n",
       "      <td>False</td>\n",
       "      <td>0.101103</td>\n",
       "      <td>False</td>\n",
       "      <td>4.942857</td>\n",
       "      <td>0.000000</td>\n",
       "      <td>0.212023</td>\n",
       "      <td>False</td>\n",
       "    </tr>\n",
       "    <tr>\n",
       "      <th>2</th>\n",
       "      <td>92</td>\n",
       "      <td>408</td>\n",
       "      <td>1</td>\n",
       "      <td>0</td>\n",
       "      <td>0</td>\n",
       "      <td>62.6</td>\n",
       "      <td>111</td>\n",
       "      <td>10.64</td>\n",
       "      <td>180.6</td>\n",
       "      <td>126</td>\n",
       "      <td>15.35</td>\n",
       "      <td>221.7</td>\n",
       "      <td>80</td>\n",
       "      <td>9.98</td>\n",
       "      <td>10.4</td>\n",
       "      <td>2</td>\n",
       "      <td>2.81</td>\n",
       "      <td>1</td>\n",
       "      <td>True</td>\n",
       "      <td>38.78</td>\n",
       "      <td>475.3</td>\n",
       "      <td>319</td>\n",
       "      <td>False</td>\n",
       "      <td>True</td>\n",
       "      <td>False</td>\n",
       "      <td>False</td>\n",
       "      <td>0.081591</td>\n",
       "      <td>False</td>\n",
       "      <td>3.467391</td>\n",
       "      <td>0.000000</td>\n",
       "      <td>0.121567</td>\n",
       "      <td>False</td>\n",
       "    </tr>\n",
       "    <tr>\n",
       "      <th>3</th>\n",
       "      <td>137</td>\n",
       "      <td>408</td>\n",
       "      <td>0</td>\n",
       "      <td>0</td>\n",
       "      <td>0</td>\n",
       "      <td>205.9</td>\n",
       "      <td>88</td>\n",
       "      <td>35.00</td>\n",
       "      <td>209.3</td>\n",
       "      <td>86</td>\n",
       "      <td>17.79</td>\n",
       "      <td>289.9</td>\n",
       "      <td>84</td>\n",
       "      <td>13.05</td>\n",
       "      <td>14.5</td>\n",
       "      <td>4</td>\n",
       "      <td>3.92</td>\n",
       "      <td>2</td>\n",
       "      <td>True</td>\n",
       "      <td>69.76</td>\n",
       "      <td>719.6</td>\n",
       "      <td>262</td>\n",
       "      <td>False</td>\n",
       "      <td>False</td>\n",
       "      <td>False</td>\n",
       "      <td>True</td>\n",
       "      <td>0.096943</td>\n",
       "      <td>False</td>\n",
       "      <td>1.912409</td>\n",
       "      <td>0.000000</td>\n",
       "      <td>0.266260</td>\n",
       "      <td>False</td>\n",
       "    </tr>\n",
       "    <tr>\n",
       "      <th>4</th>\n",
       "      <td>132</td>\n",
       "      <td>415</td>\n",
       "      <td>0</td>\n",
       "      <td>0</td>\n",
       "      <td>0</td>\n",
       "      <td>83.4</td>\n",
       "      <td>110</td>\n",
       "      <td>14.18</td>\n",
       "      <td>232.2</td>\n",
       "      <td>137</td>\n",
       "      <td>19.74</td>\n",
       "      <td>146.7</td>\n",
       "      <td>114</td>\n",
       "      <td>6.60</td>\n",
       "      <td>7.6</td>\n",
       "      <td>5</td>\n",
       "      <td>2.05</td>\n",
       "      <td>1</td>\n",
       "      <td>True</td>\n",
       "      <td>42.57</td>\n",
       "      <td>469.9</td>\n",
       "      <td>366</td>\n",
       "      <td>False</td>\n",
       "      <td>False</td>\n",
       "      <td>False</td>\n",
       "      <td>True</td>\n",
       "      <td>0.090594</td>\n",
       "      <td>False</td>\n",
       "      <td>2.772727</td>\n",
       "      <td>0.000000</td>\n",
       "      <td>0.116311</td>\n",
       "      <td>False</td>\n",
       "    </tr>\n",
       "  </tbody>\n",
       "</table>\n",
       "</div>"
      ],
      "text/plain": [
       "   Account_Length  Area_Code  Intl_Plan  VMail_Plan  VMail_Message  Day_Mins  \\\n",
       "0             128        415          0           1             25     265.1   \n",
       "1              70        408          0           0              0     232.1   \n",
       "2              92        408          1           0              0      62.6   \n",
       "3             137        408          0           0              0     205.9   \n",
       "4             132        415          0           0              0      83.4   \n",
       "\n",
       "   Day_Calls  Day_Charge  Eve_Mins  Eve_Calls  Eve_Charge  Night_Mins  \\\n",
       "0        110       45.07     197.4         99       16.78       244.7   \n",
       "1        122       39.46     292.3        112       24.85       201.2   \n",
       "2        111       10.64     180.6        126       15.35       221.7   \n",
       "3         88       35.00     209.3         86       17.79       289.9   \n",
       "4        110       14.18     232.2        137       19.74       146.7   \n",
       "\n",
       "   Night_Calls  Night_Charge  Intl_Mins  Intl_Calls  Intl_Charge  \\\n",
       "0           91         11.01       10.0           3         2.70   \n",
       "1          112          9.05        0.0           0         0.00   \n",
       "2           80          9.98       10.4           2         2.81   \n",
       "3           84         13.05       14.5           4         3.92   \n",
       "4          114          6.60        7.6           5         2.05   \n",
       "\n",
       "   CustServ_Calls  Cranky_Triskaidekaphobias  total_charge  total_mins  \\\n",
       "0               1                       True         75.56       717.2   \n",
       "1               3                       True         73.36       725.6   \n",
       "2               1                       True         38.78       475.3   \n",
       "3               2                       True         69.76       719.6   \n",
       "4               1                       True         42.57       469.9   \n",
       "\n",
       "   total_calls  low_call_high_charge  intl_callers_higher_than_avg_charge  \\\n",
       "0          303                 False                                False   \n",
       "1          346                 False                                False   \n",
       "2          319                 False                                 True   \n",
       "3          262                 False                                False   \n",
       "4          366                 False                                False   \n",
       "\n",
       "   intl_callers_higher_than_avg_calls  intl_callers_no_plan  \\\n",
       "0                               False                  True   \n",
       "1                               False                 False   \n",
       "2                               False                 False   \n",
       "3                               False                  True   \n",
       "4                               False                  True   \n",
       "\n",
       "   avg_charge_per_min  new_n_angry  avg_calls_per_length  \\\n",
       "0            0.105354        False              2.367188   \n",
       "1            0.101103        False              4.942857   \n",
       "2            0.081591        False              3.467391   \n",
       "3            0.096943        False              1.912409   \n",
       "4            0.090594        False              2.772727   \n",
       "\n",
       "   avg_calls_per_acc_length  avg_call_length  Democrat  \n",
       "0                  0.195312         0.249373     False  \n",
       "1                  0.000000         0.212023     False  \n",
       "2                  0.000000         0.121567     False  \n",
       "3                  0.000000         0.266260     False  \n",
       "4                  0.000000         0.116311     False  "
      ]
     },
     "execution_count": 29,
     "metadata": {},
     "output_type": "execute_result"
    }
   ],
   "source": [
    "df_model.loc[:,attributes].head()"
   ]
  },
  {
   "cell_type": "code",
   "execution_count": 30,
   "metadata": {
    "Collapsed": "false"
   },
   "outputs": [],
   "source": [
    "from sklearn.preprocessing import StandardScaler\n",
    "\n",
    "scaler = StandardScaler()\n",
    "\n",
    "X_train = scaler.fit_transform(df_train.loc[:,attributes].astype(float))\n",
    "y_train = df_train.Churn.values\n",
    "\n",
    "X_test = scaler.transform(df_test.loc[:,attributes].astype(float))\n",
    "y_test = df_test.Churn.values"
   ]
  },
  {
   "cell_type": "markdown",
   "metadata": {
    "Collapsed": "false"
   },
   "source": [
    "### Evaluation\n",
    "\n",
    "We used accuracy metric last week.  This week we will focus on recall - it is probably more relevant in this case and we want to focus on identifying as many Churn customers as possible."
   ]
  },
  {
   "cell_type": "code",
   "execution_count": 31,
   "metadata": {
    "Collapsed": "false"
   },
   "outputs": [],
   "source": [
    "from sklearn.model_selection import cross_val_score\n",
    "from sklearn.metrics import recall_score, roc_auc_score\n",
    "\n",
    "models = []"
   ]
  },
  {
   "cell_type": "markdown",
   "metadata": {
    "Collapsed": "false"
   },
   "source": [
    "### Training - First Iteration\n",
    "\n",
    "Just a few of our standard classifiers, using default/semi-sane parameters."
   ]
  },
  {
   "cell_type": "code",
   "execution_count": 32,
   "metadata": {
    "Collapsed": "false"
   },
   "outputs": [
    {
     "name": "stdout",
     "output_type": "stream",
     "text": [
      "Models:\n",
      "    LogisticRegression             LogisticRegression()\n",
      "    SVC                            SVC()\n",
      "    DT (pruned=4)                  DecisionTreeClassifier(criterion='entropy', max_depth=4)\n"
     ]
    }
   ],
   "source": [
    "models = []\n",
    "\n",
    "# Logistic Regression\n",
    "from sklearn.linear_model import LogisticRegression\n",
    "models.append( {\"name\": \"LogisticRegression\", \"ref\": LogisticRegression(solver=\"lbfgs\")} )\n",
    "\n",
    "# Support Vector Machines\n",
    "from sklearn.svm import SVC\n",
    "models.append( {\"name\": \"SVC\", \"ref\": SVC(gamma=\"scale\")} )\n",
    "\n",
    "# Decision Trees\n",
    "from sklearn.tree import DecisionTreeClassifier\n",
    "models.append( {\"name\": \"DT (pruned=4)\", \"ref\": DecisionTreeClassifier(criterion='entropy', max_depth=4)} )\n",
    "\n",
    "print(\"Models:\")\n",
    "for model in models:\n",
    "    print(f\"    {model['name']:30} {model['ref']}\")"
   ]
  },
  {
   "cell_type": "code",
   "execution_count": 33,
   "metadata": {
    "Collapsed": "false"
   },
   "outputs": [
    {
     "name": "stdout",
     "output_type": "stream",
     "text": [
      "\n",
      "Model LogisticRegression\n",
      "\tCV scores ['0.2414', '0.2414', '0.3448', '0.2414', '0.3793', '0.3793', '0.2759', '0.1379', '0.3793', '0.1724']\n",
      "\tmean=0.2793 std=0.0837\n",
      "\n",
      "Model SVC\n",
      "\tCV scores ['0.2069', '0.5172', '0.4483', '0.3793', '0.4483', '0.5172', '0.4138', '0.4138', '0.4828', '0.3103']\n",
      "\tmean=0.4138 std=0.0912\n",
      "\n",
      "Model DT (pruned=4)\n",
      "\tCV scores ['0.6897', '0.6897', '0.7931', '0.6207', '0.7931', '0.6207', '0.6552', '0.6552', '0.6552', '0.7931']\n",
      "\tmean=0.6966 std=0.0669\n"
     ]
    }
   ],
   "source": [
    "for model in models:\n",
    "    \n",
    "    crossval_scores = cross_val_score(model[\"ref\"], X_train, y_train, scoring='recall', cv=10)\n",
    "    print (\"\\nModel %s\" % model[\"name\"])\n",
    "    print (\"\\tCV scores %s\" % [f\"{s:.4f}\" for s in crossval_scores])\n",
    "    print (\"\\tmean=%.4f std=%.4f\" % (crossval_scores.mean(), crossval_scores.std()))"
   ]
  },
  {
   "cell_type": "markdown",
   "metadata": {
    "Collapsed": "false"
   },
   "source": [
    "### Feature Selection"
   ]
  },
  {
   "cell_type": "code",
   "execution_count": 34,
   "metadata": {
    "Collapsed": "false"
   },
   "outputs": [],
   "source": [
    "df_train, df_test = train_test_split(df_model, stratify=df_model[target], test_size=.25, random_state=TRAIN_TEST_SEED)\n",
    "\n",
    "X_train = scaler.fit_transform(df_train.loc[:,attributes].astype(float))\n",
    "\n",
    "y_train = df_train.Churn.values\n",
    "\n",
    "X_test = scaler.transform(df_test.loc[:,attributes].astype(float))\n",
    "y_test = df_test.Churn.values"
   ]
  },
  {
   "cell_type": "code",
   "execution_count": 35,
   "metadata": {
    "Collapsed": "false"
   },
   "outputs": [
    {
     "name": "stdout",
     "output_type": "stream",
     "text": [
      "Optimal number of features : 20\n"
     ]
    },
    {
     "data": {
      "image/png": "[encoded data removed]",
      "text/plain": [
       "<Figure size 432x288 with 1 Axes>"
      ]
     },
     "metadata": {},
     "output_type": "display_data"
    }
   ],
   "source": [
    "from sklearn.model_selection import StratifiedKFold\n",
    "from sklearn.feature_selection import RFECV\n",
    "\n",
    "model = models[0][\"ref\"]\n",
    "\n",
    "rfecv = RFECV(estimator=model, step=1, cv=StratifiedKFold(2), scoring=\"recall\")\n",
    "rfecv.fit(X_train, y_train)\n",
    "print(\"Optimal number of features : %d\" % rfecv.n_features_)\n",
    "\n",
    "# Plot number of features VS. cross-validation scores\n",
    "plt.figure()\n",
    "plt.xlabel(\"Number of features selected\")\n",
    "plt.ylabel(\"Cross validation score\")\n",
    "plt.plot(range(1, len(rfecv.grid_scores_) + 1), rfecv.grid_scores_)\n",
    "plt.show()\n"
   ]
  },
  {
   "cell_type": "code",
   "execution_count": 36,
   "metadata": {
    "Collapsed": "false"
   },
   "outputs": [
    {
     "data": {
      "text/plain": [
       "['Intl_Plan',\n",
       " 'VMail_Plan',\n",
       " 'VMail_Message',\n",
       " 'Day_Mins',\n",
       " 'Day_Charge',\n",
       " 'Eve_Mins',\n",
       " 'Eve_Charge',\n",
       " 'Night_Mins',\n",
       " 'Night_Charge',\n",
       " 'Intl_Mins',\n",
       " 'Intl_Calls',\n",
       " 'Intl_Charge',\n",
       " 'CustServ_Calls',\n",
       " 'Cranky_Triskaidekaphobias',\n",
       " 'total_charge',\n",
       " 'intl_callers_higher_than_avg_charge',\n",
       " 'intl_callers_higher_than_avg_calls',\n",
       " 'intl_callers_no_plan',\n",
       " 'avg_charge_per_min',\n",
       " 'avg_call_length']"
      ]
     },
     "execution_count": 36,
     "metadata": {},
     "output_type": "execute_result"
    }
   ],
   "source": [
    "# list of features selected\n",
    "attributes_selected = np.array(attributes)[rfecv.support_].tolist()\n",
    "attributes_selected"
   ]
  },
  {
   "cell_type": "markdown",
   "metadata": {
    "Collapsed": "false"
   },
   "source": [
    "### Training - After Feature Selection"
   ]
  },
  {
   "cell_type": "code",
   "execution_count": 37,
   "metadata": {
    "Collapsed": "false"
   },
   "outputs": [
    {
     "data": {
      "text/html": [
       "<div>\n",
       "<style scoped>\n",
       "    .dataframe tbody tr th:only-of-type {\n",
       "        vertical-align: middle;\n",
       "    }\n",
       "\n",
       "    .dataframe tbody tr th {\n",
       "        vertical-align: top;\n",
       "    }\n",
       "\n",
       "    .dataframe thead th {\n",
       "        text-align: right;\n",
       "    }\n",
       "</style>\n",
       "<table border=\"1\" class=\"dataframe\">\n",
       "  <thead>\n",
       "    <tr style=\"text-align: right;\">\n",
       "      <th></th>\n",
       "      <th>Intl_Plan</th>\n",
       "      <th>VMail_Plan</th>\n",
       "      <th>VMail_Message</th>\n",
       "      <th>Day_Mins</th>\n",
       "      <th>Day_Charge</th>\n",
       "      <th>Eve_Mins</th>\n",
       "      <th>Eve_Charge</th>\n",
       "      <th>Night_Mins</th>\n",
       "      <th>Night_Charge</th>\n",
       "      <th>Intl_Mins</th>\n",
       "      <th>Intl_Calls</th>\n",
       "      <th>Intl_Charge</th>\n",
       "      <th>CustServ_Calls</th>\n",
       "      <th>Cranky_Triskaidekaphobias</th>\n",
       "      <th>total_charge</th>\n",
       "      <th>intl_callers_higher_than_avg_charge</th>\n",
       "      <th>intl_callers_higher_than_avg_calls</th>\n",
       "      <th>intl_callers_no_plan</th>\n",
       "      <th>avg_charge_per_min</th>\n",
       "      <th>avg_call_length</th>\n",
       "      <th>Churn</th>\n",
       "    </tr>\n",
       "  </thead>\n",
       "  <tbody>\n",
       "    <tr>\n",
       "      <th>0</th>\n",
       "      <td>0</td>\n",
       "      <td>1</td>\n",
       "      <td>25</td>\n",
       "      <td>265.1</td>\n",
       "      <td>45.07</td>\n",
       "      <td>197.4</td>\n",
       "      <td>16.78</td>\n",
       "      <td>244.7</td>\n",
       "      <td>11.01</td>\n",
       "      <td>10.0</td>\n",
       "      <td>3</td>\n",
       "      <td>2.70</td>\n",
       "      <td>1</td>\n",
       "      <td>True</td>\n",
       "      <td>75.56</td>\n",
       "      <td>False</td>\n",
       "      <td>False</td>\n",
       "      <td>True</td>\n",
       "      <td>0.105354</td>\n",
       "      <td>0.249373</td>\n",
       "      <td>0</td>\n",
       "    </tr>\n",
       "    <tr>\n",
       "      <th>1</th>\n",
       "      <td>0</td>\n",
       "      <td>0</td>\n",
       "      <td>0</td>\n",
       "      <td>232.1</td>\n",
       "      <td>39.46</td>\n",
       "      <td>292.3</td>\n",
       "      <td>24.85</td>\n",
       "      <td>201.2</td>\n",
       "      <td>9.05</td>\n",
       "      <td>0.0</td>\n",
       "      <td>0</td>\n",
       "      <td>0.00</td>\n",
       "      <td>3</td>\n",
       "      <td>True</td>\n",
       "      <td>73.36</td>\n",
       "      <td>False</td>\n",
       "      <td>False</td>\n",
       "      <td>False</td>\n",
       "      <td>0.101103</td>\n",
       "      <td>0.212023</td>\n",
       "      <td>0</td>\n",
       "    </tr>\n",
       "    <tr>\n",
       "      <th>2</th>\n",
       "      <td>1</td>\n",
       "      <td>0</td>\n",
       "      <td>0</td>\n",
       "      <td>62.6</td>\n",
       "      <td>10.64</td>\n",
       "      <td>180.6</td>\n",
       "      <td>15.35</td>\n",
       "      <td>221.7</td>\n",
       "      <td>9.98</td>\n",
       "      <td>10.4</td>\n",
       "      <td>2</td>\n",
       "      <td>2.81</td>\n",
       "      <td>1</td>\n",
       "      <td>True</td>\n",
       "      <td>38.78</td>\n",
       "      <td>True</td>\n",
       "      <td>False</td>\n",
       "      <td>False</td>\n",
       "      <td>0.081591</td>\n",
       "      <td>0.121567</td>\n",
       "      <td>1</td>\n",
       "    </tr>\n",
       "    <tr>\n",
       "      <th>3</th>\n",
       "      <td>0</td>\n",
       "      <td>0</td>\n",
       "      <td>0</td>\n",
       "      <td>205.9</td>\n",
       "      <td>35.00</td>\n",
       "      <td>209.3</td>\n",
       "      <td>17.79</td>\n",
       "      <td>289.9</td>\n",
       "      <td>13.05</td>\n",
       "      <td>14.5</td>\n",
       "      <td>4</td>\n",
       "      <td>3.92</td>\n",
       "      <td>2</td>\n",
       "      <td>True</td>\n",
       "      <td>69.76</td>\n",
       "      <td>False</td>\n",
       "      <td>False</td>\n",
       "      <td>True</td>\n",
       "      <td>0.096943</td>\n",
       "      <td>0.266260</td>\n",
       "      <td>0</td>\n",
       "    </tr>\n",
       "    <tr>\n",
       "      <th>4</th>\n",
       "      <td>0</td>\n",
       "      <td>0</td>\n",
       "      <td>0</td>\n",
       "      <td>83.4</td>\n",
       "      <td>14.18</td>\n",
       "      <td>232.2</td>\n",
       "      <td>19.74</td>\n",
       "      <td>146.7</td>\n",
       "      <td>6.60</td>\n",
       "      <td>7.6</td>\n",
       "      <td>5</td>\n",
       "      <td>2.05</td>\n",
       "      <td>1</td>\n",
       "      <td>True</td>\n",
       "      <td>42.57</td>\n",
       "      <td>False</td>\n",
       "      <td>False</td>\n",
       "      <td>True</td>\n",
       "      <td>0.090594</td>\n",
       "      <td>0.116311</td>\n",
       "      <td>0</td>\n",
       "    </tr>\n",
       "  </tbody>\n",
       "</table>\n",
       "</div>"
      ],
      "text/plain": [
       "   Intl_Plan  VMail_Plan  VMail_Message  Day_Mins  Day_Charge  Eve_Mins  \\\n",
       "0          0           1             25     265.1       45.07     197.4   \n",
       "1          0           0              0     232.1       39.46     292.3   \n",
       "2          1           0              0      62.6       10.64     180.6   \n",
       "3          0           0              0     205.9       35.00     209.3   \n",
       "4          0           0              0      83.4       14.18     232.2   \n",
       "\n",
       "   Eve_Charge  Night_Mins  Night_Charge  Intl_Mins  Intl_Calls  Intl_Charge  \\\n",
       "0       16.78       244.7         11.01       10.0           3         2.70   \n",
       "1       24.85       201.2          9.05        0.0           0         0.00   \n",
       "2       15.35       221.7          9.98       10.4           2         2.81   \n",
       "3       17.79       289.9         13.05       14.5           4         3.92   \n",
       "4       19.74       146.7          6.60        7.6           5         2.05   \n",
       "\n",
       "   CustServ_Calls  Cranky_Triskaidekaphobias  total_charge  \\\n",
       "0               1                       True         75.56   \n",
       "1               3                       True         73.36   \n",
       "2               1                       True         38.78   \n",
       "3               2                       True         69.76   \n",
       "4               1                       True         42.57   \n",
       "\n",
       "   intl_callers_higher_than_avg_charge  intl_callers_higher_than_avg_calls  \\\n",
       "0                                False                               False   \n",
       "1                                False                               False   \n",
       "2                                 True                               False   \n",
       "3                                False                               False   \n",
       "4                                False                               False   \n",
       "\n",
       "   intl_callers_no_plan  avg_charge_per_min  avg_call_length  Churn  \n",
       "0                  True            0.105354         0.249373      0  \n",
       "1                 False            0.101103         0.212023      0  \n",
       "2                 False            0.081591         0.121567      1  \n",
       "3                  True            0.096943         0.266260      0  \n",
       "4                  True            0.090594         0.116311      0  "
      ]
     },
     "metadata": {},
     "output_type": "display_data"
    },
    {
     "name": "stdout",
     "output_type": "stream",
     "text": [
      "\n",
      "Model LogisticRegression\n",
      "\tCV scores ['0.3750', '0.3750', '0.2603', '0.2877', '0.2361']\n",
      "\tmean=0.3068 std=0.0580\n",
      "\n",
      "Model SVC\n",
      "\tCV scores ['0.5278', '0.5694', '0.5342', '0.4658', '0.6111']\n",
      "\tmean=0.5417 std=0.0482\n",
      "\n",
      "Model DT (pruned=4)\n",
      "\tCV scores ['0.7500', '0.7639', '0.7123', '0.6986', '0.7361']\n",
      "\tmean=0.7322 std=0.0239\n"
     ]
    }
   ],
   "source": [
    "df_model_fs = df_model.loc[:, attributes_selected + [target]]\n",
    "display(df_model_fs.head())\n",
    "\n",
    "# train-test split\n",
    "df_train_fs, df_test_fs = train_test_split(df_model_fs, stratify=df_model_fs[target], test_size=.25, random_state=TRAIN_TEST_SEED)\n",
    "attributes = df_model_fs.columns.tolist()\n",
    "attributes.remove(target)\n",
    "\n",
    "# normalise \n",
    "X_train = scaler.fit_transform(df_train.loc[:,attributes].astype(float))\n",
    "y_train = df_train.Churn.values\n",
    "X_test = scaler.transform(df_test.loc[:,attributes].astype(float))\n",
    "y_test = df_test.Churn.values\n",
    "\n",
    "for model in models:\n",
    "    \n",
    "    crossval_scores = cross_val_score(model[\"ref\"], X_train, y_train, scoring='recall', cv=5)\n",
    "    print (\"\\nModel %s\" % model[\"name\"])\n",
    "    print (\"\\tCV scores %s\" % [f\"{s:.4f}\" for s in crossval_scores])\n",
    "    print (\"\\tmean=%.4f std=%.4f\" % (crossval_scores.mean(), crossval_scores.std()))"
   ]
  },
  {
   "cell_type": "code",
   "execution_count": null,
   "metadata": {
    "Collapsed": "false"
   },
   "outputs": [],
   "source": []
  },
  {
   "cell_type": "code",
   "execution_count": null,
   "metadata": {
    "Collapsed": "false"
   },
   "outputs": [],
   "source": []
  },
  {
   "cell_type": "code",
   "execution_count": null,
   "metadata": {
    "Collapsed": "false"
   },
   "outputs": [],
   "source": []
  },
  {
   "cell_type": "code",
   "execution_count": null,
   "metadata": {
    "Collapsed": "false"
   },
   "outputs": [],
   "source": []
  },
  {
   "cell_type": "code",
   "execution_count": null,
   "metadata": {
    "Collapsed": "false"
   },
   "outputs": [],
   "source": []
  },
  {
   "cell_type": "code",
   "execution_count": null,
   "metadata": {
    "Collapsed": "false"
   },
   "outputs": [],
   "source": []
  },
  {
   "cell_type": "code",
   "execution_count": null,
   "metadata": {
    "Collapsed": "false"
   },
   "outputs": [],
   "source": []
  },
  {
   "cell_type": "code",
   "execution_count": null,
   "metadata": {
    "Collapsed": "false"
   },
   "outputs": [],
   "source": []
  },
  {
   "cell_type": "code",
   "execution_count": null,
   "metadata": {},
   "outputs": [],
   "source": []
  }
 ],
 "metadata": {
  "kernelspec": {
   "display_name": "Python 3",
   "language": "python",
   "name": "python3"
  },
  "language_info": {
   "codemirror_mode": {
    "name": "ipython",
    "version": 3
   },
   "file_extension": ".py",
   "mimetype": "text/x-python",
   "name": "python",
   "nbconvert_exporter": "python",
   "pygments_lexer": "ipython3",
   "version": "3.9.0"
  }
 },
 "nbformat": 4,
 "nbformat_minor": 4
}
