{
 "cells": [
  {
   "cell_type": "markdown",
   "metadata": {},
   "source": [
    "# Hubert Stefanski -- 20081102@mail.wit.ie -- Text-Mining -- CA"
   ]
  },
  {
   "cell_type": "markdown",
   "metadata": {},
   "source": [
    "## Imports"
   ]
  },
  {
   "cell_type": "code",
   "execution_count": 1,
   "metadata": {},
   "outputs": [],
   "source": [
    "import numpy as np\n",
    "import pandas as pd\n",
    "import matplotlib.pyplot as plt\n",
    "import seaborn as sns\n",
    "from sklearn.naive_bayes import MultinomialNB\n",
    "from sklearn.linear_model import LogisticRegression\n",
    "from sklearn.model_selection import train_test_split\n",
    "from sklearn.model_selection import cross_val_score\n",
    "\n",
    "plt.style.use(\"seaborn-darkgrid\")\n",
    "\n",
    "SEED = 666\n"
   ]
  },
  {
   "cell_type": "markdown",
   "metadata": {},
   "source": [
    "## Load Dataset and Cleanup"
   ]
  },
  {
   "cell_type": "code",
   "execution_count": 2,
   "metadata": {},
   "outputs": [
    {
     "name": "stdout",
     "output_type": "stream",
     "text": [
      "(30573, 9)\n"
     ]
    },
    {
     "data": {
      "text/html": [
       "<div>\n",
       "<style scoped>\n",
       "    .dataframe tbody tr th:only-of-type {\n",
       "        vertical-align: middle;\n",
       "    }\n",
       "\n",
       "    .dataframe tbody tr th {\n",
       "        vertical-align: top;\n",
       "    }\n",
       "\n",
       "    .dataframe thead th {\n",
       "        text-align: right;\n",
       "    }\n",
       "</style>\n",
       "<table border=\"1\" class=\"dataframe\">\n",
       "  <thead>\n",
       "    <tr style=\"text-align: right;\">\n",
       "      <th></th>\n",
       "      <th>id</th>\n",
       "      <th>location</th>\n",
       "      <th>claim</th>\n",
       "      <th>analysis</th>\n",
       "      <th>pinocchios</th>\n",
       "      <th>category</th>\n",
       "      <th>repeated_ids</th>\n",
       "      <th>repeated_count</th>\n",
       "      <th>date</th>\n",
       "    </tr>\n",
       "  </thead>\n",
       "  <tbody>\n",
       "    <tr>\n",
       "      <th>0</th>\n",
       "      <td>31608.0</td>\n",
       "      <td>Remarks</td>\n",
       "      <td>“We also got tax cuts, the largest tax cut and...</td>\n",
       "      <td>This is Trump’s second favorite falsehood, and...</td>\n",
       "      <td>4.0</td>\n",
       "      <td>Taxes</td>\n",
       "      <td>31608, 31581, 31305, 31183, 31530, 30920, 3085...</td>\n",
       "      <td>296</td>\n",
       "      <td>01/20/2021</td>\n",
       "    </tr>\n",
       "    <tr>\n",
       "      <th>1</th>\n",
       "      <td>31609.0</td>\n",
       "      <td>Remarks</td>\n",
       "      <td>“We just got seventy five million votes. And t...</td>\n",
       "      <td>When the counting was finished, Trump had rece...</td>\n",
       "      <td>NaN</td>\n",
       "      <td>Election</td>\n",
       "      <td>31609, 31292, 31155, 31016, 31082, 30992, 3156...</td>\n",
       "      <td>19</td>\n",
       "      <td>01/20/2021</td>\n",
       "    </tr>\n",
       "  </tbody>\n",
       "</table>\n",
       "</div>"
      ],
      "text/plain": [
       "        id location                                              claim  \\\n",
       "0  31608.0  Remarks  “We also got tax cuts, the largest tax cut and...   \n",
       "1  31609.0  Remarks  “We just got seventy five million votes. And t...   \n",
       "\n",
       "                                            analysis  pinocchios  category  \\\n",
       "0  This is Trump’s second favorite falsehood, and...         4.0     Taxes   \n",
       "1  When the counting was finished, Trump had rece...         NaN  Election   \n",
       "\n",
       "                                        repeated_ids  repeated_count  \\\n",
       "0  31608, 31581, 31305, 31183, 31530, 30920, 3085...             296   \n",
       "1  31609, 31292, 31155, 31016, 31082, 30992, 3156...              19   \n",
       "\n",
       "         date  \n",
       "0  01/20/2021  \n",
       "1  01/20/2021  "
      ]
     },
     "execution_count": 2,
     "metadata": {},
     "output_type": "execute_result"
    }
   ],
   "source": [
    "df = pd.read_csv(\"data/wapo_trumpclaims_export-012021.csv.gz\")\n",
    "print(df.shape)\n",
    "df.head(2)"
   ]
  },
  {
   "cell_type": "code",
   "execution_count": 3,
   "metadata": {},
   "outputs": [
    {
     "data": {
      "text/plain": [
       "Immigration            3225\n",
       "Foreign policy         3165\n",
       "Election               3037\n",
       "Miscellaneous          2767\n",
       "Coronavirus            2521\n",
       "Trade                  2513\n",
       "Economy                2475\n",
       "Russia                 1838\n",
       "Jobs                   1732\n",
       "Health care            1629\n",
       "Ukraine probe          1377\n",
       "Environment            1065\n",
       "Biographical record     963\n",
       "Taxes                   857\n",
       "Crime                   852\n",
       "NaN                     169\n",
       "Guns                    165\n",
       "Education               151\n",
       "Terrorism                72\n",
       "Name: category, dtype: int64"
      ]
     },
     "execution_count": 3,
     "metadata": {},
     "output_type": "execute_result"
    }
   ],
   "source": [
    "df.category.value_counts(dropna=False)"
   ]
  },
  {
   "cell_type": "code",
   "execution_count": 4,
   "metadata": {},
   "outputs": [
    {
     "name": "stdout",
     "output_type": "stream",
     "text": [
      "(30404, 9)\n"
     ]
    }
   ],
   "source": [
    "df.dropna(subset=['category'], inplace=True)\n",
    "print(df.shape)"
   ]
  },
  {
   "cell_type": "code",
   "execution_count": null,
   "metadata": {},
   "outputs": [],
   "source": []
  },
  {
   "cell_type": "code",
   "execution_count": 5,
   "metadata": {},
   "outputs": [
    {
     "data": {
      "text/plain": [
       "Campaign rally       9514\n",
       "Remarks              6207\n",
       "Interview            4971\n",
       "Twitter              4703\n",
       "Speech               2763\n",
       "News conference      1895\n",
       "Vlog                  148\n",
       "Statement             123\n",
       "Leaked transcript      80\n",
       "Name: location, dtype: int64"
      ]
     },
     "execution_count": 5,
     "metadata": {},
     "output_type": "execute_result"
    }
   ],
   "source": [
    "df.location.value_counts(dropna=False)"
   ]
  },
  {
   "cell_type": "code",
   "execution_count": 6,
   "metadata": {},
   "outputs": [],
   "source": [
    "# sns.histplot(x='date',data=df) // COMMENTED OUT DUE TO VERSION ISSUE"
   ]
  },
  {
   "cell_type": "code",
   "execution_count": 7,
   "metadata": {},
   "outputs": [
    {
     "data": {
      "text/plain": [
       "(5746, 2)"
      ]
     },
     "execution_count": 7,
     "metadata": {},
     "output_type": "execute_result"
    }
   ],
   "source": [
    "criteria = df.category.isin([\"Immigration\",\"Coronavirus\"])\n",
    "df = df.loc[criteria, [\"claim\",\"category\"]].copy()\n",
    "df.shape"
   ]
  },
  {
   "cell_type": "code",
   "execution_count": 8,
   "metadata": {},
   "outputs": [
    {
     "data": {
      "text/plain": [
       "Immigration    3225\n",
       "Coronavirus    2521\n",
       "Name: category, dtype: int64"
      ]
     },
     "execution_count": 8,
     "metadata": {},
     "output_type": "execute_result"
    }
   ],
   "source": [
    "df.category.value_counts()"
   ]
  },
  {
   "cell_type": "markdown",
   "metadata": {},
   "source": [
    "## Feature Engineering"
   ]
  },
  {
   "cell_type": "code",
   "execution_count": 9,
   "metadata": {},
   "outputs": [
    {
     "data": {
      "text/plain": [
       "((3447,), (3447,), (2299,), (2299,))"
      ]
     },
     "execution_count": 9,
     "metadata": {},
     "output_type": "execute_result"
    }
   ],
   "source": [
    "X_train, X_test, y_train, y_test = train_test_split(df['claim'], df.category, test_size=0.4, stratify = df.category ,random_state=SEED)\n",
    "\n",
    "(X_train.shape,y_train.shape,X_test.shape,y_test.shape)"
   ]
  },
  {
   "cell_type": "code",
   "execution_count": 10,
   "metadata": {},
   "outputs": [],
   "source": [
    "# df_train, df_test = train_test_split(df, test_size=0.4, stratify = df.category ,random_state=SEED)"
   ]
  },
  {
   "cell_type": "code",
   "execution_count": 11,
   "metadata": {},
   "outputs": [],
   "source": [
    "from sklearn.feature_extraction.text import CountVectorizer\n",
    "count_vectorizer = CountVectorizer(ngram_range=(1,2))"
   ]
  },
  {
   "cell_type": "code",
   "execution_count": 12,
   "metadata": {},
   "outputs": [
    {
     "data": {
      "text/plain": [
       "(3447, 43639)"
      ]
     },
     "execution_count": 12,
     "metadata": {},
     "output_type": "execute_result"
    }
   ],
   "source": [
    "X_train_counts = count_vectorizer.fit_transform(X_train)\n",
    "X_test_counts = count_vectorizer.transform(X_test)\n",
    "\n",
    "X_train_counts.shape"
   ]
  },
  {
   "cell_type": "code",
   "execution_count": 13,
   "metadata": {},
   "outputs": [
    {
     "name": "stdout",
     "output_type": "stream",
     "text": [
      "['000', '000 000', '000 175', '000 70', '000 adults', '000 aliens', '000 americans', '000 and', '000 apprehensions', '000 arrests', '000 as', '000 assaults', '000 beds', '000 black', '000 burglaries', '000 burglary', '000 but', '000 car', '000 cases', '000 coronavirus', '000 could', '000 crimes', '000 criminal', '000 criminals', '000 daca', '000 damage', '000 day', '000 deaths', '000 for', '000 fraudulent', '000 gang', '000 had', '000 hospital', '000 how', '000 illegal', '000 in', '000 including', '000 instead', '000 it', '000 judges', '000 kidnappings', '000 larcenies', '000 last', '000 lives', '000 mexican', '000 mexico', '000 migrant', '000 mile', '000 miles', '000 minors', '000 more', '000 multiply', '000 murderers', '000 murders', '000 nursing', '000 of', '000 on', '000 patients', '000 people', '000 per', '000 percent', '000 plus', '000 pounds', '000 robberies', '000 rooms', '000 sex', '000 sexual', '000 small', '000 so', '000 soldiers', '000 some', '000 tests', '000 that', '000 they', '000 think', '000 to', '000 today', '000 too', '000 troops', '000 usa', '000 vehicle', '000 ventilators', '000 versus', '000 vials', '000 vicious', '000 violent', '000 was', '000 were', '000 when', '000 where', '000 which', '000 with', '000 years', '000 you', '006', '006 crimes', '028', '028 mean', '085', '085 homicides']\n"
     ]
    }
   ],
   "source": [
    "print(list(count_vectorizer.get_feature_names()[:100]))"
   ]
  },
  {
   "cell_type": "markdown",
   "metadata": {},
   "source": [
    "## Model Building"
   ]
  },
  {
   "cell_type": "code",
   "execution_count": 24,
   "metadata": {},
   "outputs": [],
   "source": [
    "# model = MultinomialNB()\n",
    "model = LogisticRegression(max_iter=1000)\n"
   ]
  },
  {
   "cell_type": "code",
   "execution_count": null,
   "metadata": {},
   "outputs": [],
   "source": []
  },
  {
   "cell_type": "code",
   "execution_count": 23,
   "metadata": {},
   "outputs": [
    {
     "ename": "AttributeError",
     "evalue": "'dict' object has no attribute 'fit'",
     "output_type": "error",
     "traceback": [
      "\u001b[0;31m---------------------------------------------------------------------------\u001b[0m",
      "\u001b[0;31mAttributeError\u001b[0m                            Traceback (most recent call last)",
      "\u001b[0;32m<ipython-input-23-87b947200167>\u001b[0m in \u001b[0;36m<module>\u001b[0;34m\u001b[0m\n\u001b[1;32m      3\u001b[0m \u001b[0;32mfor\u001b[0m \u001b[0mmodel\u001b[0m \u001b[0;32min\u001b[0m \u001b[0mmodels\u001b[0m\u001b[0;34m:\u001b[0m\u001b[0;34m\u001b[0m\u001b[0;34m\u001b[0m\u001b[0m\n\u001b[1;32m      4\u001b[0m \u001b[0;34m\u001b[0m\u001b[0m\n\u001b[0;32m----> 5\u001b[0;31m     \u001b[0mmodel\u001b[0m\u001b[0;34m.\u001b[0m\u001b[0mfit\u001b[0m\u001b[0;34m(\u001b[0m\u001b[0mX_train_counts\u001b[0m\u001b[0;34m,\u001b[0m\u001b[0my_train\u001b[0m\u001b[0;34m)\u001b[0m\u001b[0;34m\u001b[0m\u001b[0;34m\u001b[0m\u001b[0m\n\u001b[0m\u001b[1;32m      6\u001b[0m     \u001b[0my_pred\u001b[0m \u001b[0;34m=\u001b[0m \u001b[0mmodel\u001b[0m\u001b[0;34m.\u001b[0m\u001b[0mpredict\u001b[0m\u001b[0;34m(\u001b[0m\u001b[0mX_test_counts\u001b[0m\u001b[0;34m)\u001b[0m\u001b[0;34m\u001b[0m\u001b[0;34m\u001b[0m\u001b[0m\n\u001b[1;32m      7\u001b[0m \u001b[0;34m\u001b[0m\u001b[0m\n",
      "\u001b[0;31mAttributeError\u001b[0m: 'dict' object has no attribute 'fit'"
     ]
    }
   ],
   "source": []
  },
  {
   "cell_type": "code",
   "execution_count": 15,
   "metadata": {},
   "outputs": [
    {
     "data": {
      "text/plain": [
       "LogisticRegression(max_iter=1000)"
      ]
     },
     "execution_count": 15,
     "metadata": {},
     "output_type": "execute_result"
    }
   ],
   "source": [
    "model.fit(X_train_counts,y_train)"
   ]
  },
  {
   "cell_type": "code",
   "execution_count": 16,
   "metadata": {},
   "outputs": [],
   "source": [
    "y_pred = model.predict(X_test_counts)"
   ]
  },
  {
   "cell_type": "code",
   "execution_count": 17,
   "metadata": {},
   "outputs": [
    {
     "name": "stdout",
     "output_type": "stream",
     "text": [
      "              precision    recall  f1-score   support\n",
      "\n",
      " Coronavirus     0.9461    0.9732    0.9595      1009\n",
      " Immigration     0.9786    0.9566    0.9675      1290\n",
      "\n",
      "    accuracy                         0.9639      2299\n",
      "   macro avg     0.9623    0.9649    0.9635      2299\n",
      "weighted avg     0.9643    0.9639    0.9639      2299\n",
      "\n"
     ]
    }
   ],
   "source": [
    "from sklearn.metrics import classification_report\n",
    "print(classification_report(y_test,y_pred,zero_division=True,digits=4))"
   ]
  },
  {
   "cell_type": "code",
   "execution_count": 18,
   "metadata": {},
   "outputs": [
    {
     "data": {
      "text/html": [
       "<div>\n",
       "<style scoped>\n",
       "    .dataframe tbody tr th:only-of-type {\n",
       "        vertical-align: middle;\n",
       "    }\n",
       "\n",
       "    .dataframe tbody tr th {\n",
       "        vertical-align: top;\n",
       "    }\n",
       "\n",
       "    .dataframe thead th {\n",
       "        text-align: right;\n",
       "    }\n",
       "</style>\n",
       "<table border=\"1\" class=\"dataframe\">\n",
       "  <thead>\n",
       "    <tr style=\"text-align: right;\">\n",
       "      <th>Predicted</th>\n",
       "      <th>Coronavirus</th>\n",
       "      <th>Immigration</th>\n",
       "    </tr>\n",
       "    <tr>\n",
       "      <th>Actual</th>\n",
       "      <th></th>\n",
       "      <th></th>\n",
       "    </tr>\n",
       "  </thead>\n",
       "  <tbody>\n",
       "    <tr>\n",
       "      <th>Coronavirus</th>\n",
       "      <td>982</td>\n",
       "      <td>27</td>\n",
       "    </tr>\n",
       "    <tr>\n",
       "      <th>Immigration</th>\n",
       "      <td>56</td>\n",
       "      <td>1234</td>\n",
       "    </tr>\n",
       "  </tbody>\n",
       "</table>\n",
       "</div>"
      ],
      "text/plain": [
       "Predicted    Coronavirus  Immigration\n",
       "Actual                               \n",
       "Coronavirus          982           27\n",
       "Immigration           56         1234"
      ]
     },
     "execution_count": 18,
     "metadata": {},
     "output_type": "execute_result"
    }
   ],
   "source": [
    "df_cm = pd.crosstab(y_test,y_pred)\n",
    "df_cm.index.name = 'Actual'\n",
    "df_cm.columns.name = 'Predicted'\n",
    "df_cm"
   ]
  },
  {
   "cell_type": "code",
   "execution_count": 19,
   "metadata": {},
   "outputs": [
    {
     "data": {
      "image/png": "[encoded data removed]",
      "text/plain": [
       "<Figure size 1440x720 with 2 Axes>"
      ]
     },
     "metadata": {},
     "output_type": "display_data"
    }
   ],
   "source": [
    "plt.figure(figsize=(20,10))\n",
    "g = sns.heatmap(df_cm,annot=True,fmt=\"d\",cmap=\"Blues\")\n",
    "g.xaxis.set_ticks_position('top')\n",
    "g.xaxis.set_label_position('top')"
   ]
  },
  {
   "cell_type": "code",
   "execution_count": 20,
   "metadata": {},
   "outputs": [
    {
     "name": "stdout",
     "output_type": "stream",
     "text": [
      "              precision    recall  f1-score   support\n",
      "\n",
      " Coronavirus     0.9461    0.9732    0.9595      1009\n",
      " Immigration     0.9786    0.9566    0.9675      1290\n",
      "\n",
      "    accuracy                         0.9639      2299\n",
      "   macro avg     0.9623    0.9649    0.9635      2299\n",
      "weighted avg     0.9643    0.9639    0.9639      2299\n",
      "\n"
     ]
    }
   ],
   "source": [
    "print(classification_report(y_test, y_pred, zero_division=0, digits=4))"
   ]
  }
 ],
 "metadata": {
  "kernelspec": {
   "display_name": "Python 3",
   "language": "python",
   "name": "python3"
  },
  "language_info": {
   "codemirror_mode": {
    "name": "ipython",
    "version": 3
   },
   "file_extension": ".py",
   "mimetype": "text/x-python",
   "name": "python",
   "nbconvert_exporter": "python",
   "pygments_lexer": "ipython3",
   "version": "3.9.2"
  }
 },
 "nbformat": 4,
 "nbformat_minor": 4
}
