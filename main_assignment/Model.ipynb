{
 "cells": [
  {
   "cell_type": "markdown",
   "metadata": {},
   "source": [
    "# Hubert Stefanski - Data Mining II - Main Assignment\n",
    "## 20081102@mail.wit.ie"
   ]
  },
  {
   "cell_type": "markdown",
   "metadata": {},
   "source": [
    "## Imports"
   ]
  },
  {
   "cell_type": "code",
   "execution_count": 6,
   "metadata": {},
   "outputs": [],
   "source": [
    "import pandas as pd\n",
    "import numpy as np\n",
    "import matplotlib.pyplot as plt\n",
    "import seaborn as sns\n",
    "\n",
    "from IPython.display import display, Markdown\n",
    "plt.style.use(\"seaborn-darkgrid\")\n",
    "pd.set_option('display.max_columns', None)  "
   ]
  },
  {
   "cell_type": "markdown",
   "metadata": {},
   "source": [
    "## Helper functions\n",
    "don't mind this, I'm just lazy"
   ]
  },
  {
   "cell_type": "code",
   "execution_count": 7,
   "metadata": {},
   "outputs": [],
   "source": [
    "\n",
    "def name_func(df):\n",
    "    col_names = []\n",
    "    for i in range(df.shape[1]):\n",
    "        col_names.append(\"Col_\" + str(i))\n",
    "    return col_names"
   ]
  },
  {
   "cell_type": "markdown",
   "metadata": {},
   "source": [
    "## Load Datasets"
   ]
  },
  {
   "cell_type": "code",
   "execution_count": 16,
   "metadata": {},
   "outputs": [
    {
     "name": "stdout",
     "output_type": "stream",
     "text": [
      "Labeled (16000, 177)\n",
      "Scoring (9000, 176)\n"
     ]
    }
   ],
   "source": [
    "# Load and name columns, change last column name to \"Target\"\n",
    "df_labeled = pd.read_csv(\"data/labeled.csv.gz\",names = name_func(pd.read_csv(\"data/labeled.csv.gz\")))\n",
    "df_labeled.columns = [*df_labeled.columns[:-1],\"Target\"]\n",
    "print(\"Labeled\", df_labeled.shape)\n",
    "# df_labeled.head()\n",
    "\n",
    "# Load and name columns\n",
    "df_scoring = pd.read_csv(\"data/scoring.csv.gz\",names = name_func(pd.read_csv(\"data/scoring.csv.gz\")))\n",
    "print(\"Scoring\", df_scoring.shape)\n",
    "# df_scoring.head()\n",
    "                         "
   ]
  }
 ],
 "metadata": {
  "kernelspec": {
   "display_name": "Python 3",
   "language": "python",
   "name": "python3"
  },
  "language_info": {
   "codemirror_mode": {
    "name": "ipython",
    "version": 3
   },
   "file_extension": ".py",
   "mimetype": "text/x-python",
   "name": "python",
   "nbconvert_exporter": "python",
   "pygments_lexer": "ipython3",
   "version": "3.9.2"
  }
 },
 "nbformat": 4,
 "nbformat_minor": 4
}
